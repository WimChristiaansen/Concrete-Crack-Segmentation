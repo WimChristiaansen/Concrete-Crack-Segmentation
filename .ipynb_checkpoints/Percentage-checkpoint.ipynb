{
 "cells": [
  {
   "cell_type": "code",
   "execution_count": 1,
   "metadata": {},
   "outputs": [
    {
     "name": "stdout",
     "output_type": "stream",
     "text": [
      "amount of white pixels 1404396\n",
      "area ratio 7.08711340705621\n"
     ]
    }
   ],
   "source": [
    "import cv2\n",
    "import numpy as np\n",
    "\n",
    "image = cv2.imread('C:\\\\BeCode\\\\Git\\\\crack_segmentation\\\\test_resultSKYEBASE\\\\DMC - DSC01821.jpg', 0)\n",
    "thresh = cv2.threshold(image,0,255,cv2.THRESH_OTSU + cv2.THRESH_BINARY)[1]\n",
    "pixels = cv2.countNonZero(thresh)\n",
    "\n",
    "\n",
    "image_area = image.shape[0] * image.shape[1]\n",
    "area_ratio = (pixels / image_area) * 100\n",
    "\n",
    "print('amount of white pixels', pixels)\n",
    "print('area ratio', area_ratio)"
   ]
  },
  {
   "cell_type": "code",
   "execution_count": null,
   "metadata": {},
   "outputs": [],
   "source": []
  }
 ],
 "metadata": {
  "kernelspec": {
   "display_name": "Python 3",
   "language": "python",
   "name": "python3"
  },
  "language_info": {
   "codemirror_mode": {
    "name": "ipython",
    "version": 3
   },
   "file_extension": ".py",
   "mimetype": "text/x-python",
   "name": "python",
   "nbconvert_exporter": "python",
   "pygments_lexer": "ipython3",
   "version": "3.8.5"
  }
 },
 "nbformat": 4,
 "nbformat_minor": 4
}
